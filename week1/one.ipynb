{
 "cells": [
  {
   "cell_type": "code",
   "execution_count": 1,
   "id": "2910a7fb-2e94-40ef-aff6-5ef535e2cb6c",
   "metadata": {},
   "outputs": [
    {
     "name": "stdout",
     "output_type": "stream",
     "text": [
      "Python 3.9.12\n"
     ]
    }
   ],
   "source": [
    "!python -V"
   ]
  },
  {
   "cell_type": "code",
   "execution_count": 2,
   "id": "171e5522-19b8-481e-a258-b3f3e9bf4710",
   "metadata": {},
   "outputs": [],
   "source": [
    "import pandas as pd\n"
   ]
  },
  {
   "cell_type": "code",
   "execution_count": 3,
   "id": "f9c90389-48dd-458c-9e11-6274037c2391",
   "metadata": {},
   "outputs": [],
   "source": [
    "import pickle\n"
   ]
  },
  {
   "cell_type": "code",
   "execution_count": 4,
   "id": "aa5fb767-fb3b-4691-ba51-01765f393a51",
   "metadata": {},
   "outputs": [],
   "source": [
    "import seaborn as sns\n",
    "import matplotlib.pyplot as plt"
   ]
  },
  {
   "cell_type": "code",
   "execution_count": 5,
   "id": "787c6d17-a059-4d55-b6b9-c290f6bac324",
   "metadata": {},
   "outputs": [],
   "source": [
    "from sklearn.feature_extraction import DictVectorizer\n",
    "from sklearn.linear_model import LinearRegression\n",
    "from sklearn.linear_model import Lasso\n",
    "from sklearn.linear_model import Ridge\n",
    "\n",
    "from sklearn.metrics import mean_squared_error"
   ]
  },
  {
   "cell_type": "code",
   "execution_count": 6,
   "id": "62fb5fe8-8d9b-4b43-9bf1-28bf4c2319cc",
   "metadata": {},
   "outputs": [],
   "source": [
    "df = pd.read_parquet('./data/green_tripdata_2021-01.parquet')\n",
    "\n",
    "df['duration'] = df.lpep_dropoff_datetime - df.lpep_pickup_datetime\n",
    "df.duration = df.duration.apply(lambda td: td.total_seconds() / 60)\n",
    "\n",
    "df = df[(df.duration >= 1) & (df.duration <= 60)]\n",
    "\n",
    "categorical = ['PULocationID', 'DOLocationID']\n",
    "numerical = ['trip_distance']\n",
    "\n",
    "df[categorical] = df[categorical].astype(str)"
   ]
  },
  {
   "cell_type": "code",
   "execution_count": 7,
   "id": "95d38ff2-dd2f-45be-80f7-f732801072ce",
   "metadata": {},
   "outputs": [
    {
     "data": {
      "text/plain": [
       "9.838799799829435"
      ]
     },
     "execution_count": 7,
     "metadata": {},
     "output_type": "execute_result"
    }
   ],
   "source": [
    "train_dicts = df[categorical + numerical].to_dict(orient='records')\n",
    "\n",
    "dv = DictVectorizer()\n",
    "X_train = dv.fit_transform(train_dicts)\n",
    "\n",
    "target = 'duration'\n",
    "y_train = df[target].values\n",
    "\n",
    "lr = LinearRegression()\n",
    "lr.fit(X_train, y_train)\n",
    "\n",
    "y_pred = lr.predict(X_train)\n",
    "\n",
    "mean_squared_error(y_train, y_pred, squared=False)"
   ]
  },
  {
   "cell_type": "code",
   "execution_count": 8,
   "id": "422a55d4-fe4a-4412-abce-1caa8ef114c1",
   "metadata": {},
   "outputs": [
    {
     "name": "stderr",
     "output_type": "stream",
     "text": [
      "/opt/conda/lib/python3.9/site-packages/seaborn/distributions.py:2619: FutureWarning: `distplot` is a deprecated function and will be removed in a future version. Please adapt your code to use either `displot` (a figure-level function with similar flexibility) or `histplot` (an axes-level function for histograms).\n",
      "  warnings.warn(msg, FutureWarning)\n",
      "/opt/conda/lib/python3.9/site-packages/seaborn/distributions.py:2619: FutureWarning: `distplot` is a deprecated function and will be removed in a future version. Please adapt your code to use either `displot` (a figure-level function with similar flexibility) or `histplot` (an axes-level function for histograms).\n",
      "  warnings.warn(msg, FutureWarning)\n"
     ]
    },
    {
     "data": {
      "text/plain": [
       "<matplotlib.legend.Legend at 0x7efe11be53a0>"
      ]
     },
     "execution_count": 8,
     "metadata": {},
     "output_type": "execute_result"
    },
    {
     "data": {
      "image/png": "[encoded data removed]",
      "text/plain": [
       "<Figure size 432x288 with 1 Axes>"
      ]
     },
     "metadata": {
      "needs_background": "light"
     },
     "output_type": "display_data"
    }
   ],
   "source": [
    "sns.distplot(y_pred, label='prediction')\n",
    "sns.distplot(y_train, label='actual')\n",
    "\n",
    "plt.legend()"
   ]
  },
  {
   "cell_type": "code",
   "execution_count": 9,
   "id": "3a3d154f-e279-4770-bf94-5c739fdfda31",
   "metadata": {},
   "outputs": [],
   "source": [
    "def read_dataframe(filename):\n",
    "    if filename.endswith('.csv'):\n",
    "        df = pd.read_csv(filename)\n",
    "\n",
    "        df.lpep_dropoff_datetime = pd.to_datetime(df.lpep_dropoff_datetime)\n",
    "        df.lpep_pickup_datetime = pd.to_datetime(df.lpep_pickup_datetime)\n",
    "    elif filename.endswith('.parquet'):\n",
    "        df = pd.read_parquet(filename)\n",
    "\n",
    "    df['duration'] = df.lpep_dropoff_datetime - df.lpep_pickup_datetime\n",
    "    df.duration = df.duration.apply(lambda td: td.total_seconds() / 60)\n",
    "\n",
    "    df = df[(df.duration >= 1) & (df.duration <= 60)]\n",
    "\n",
    "    categorical = ['PULocationID', 'DOLocationID']\n",
    "    df[categorical] = df[categorical].astype(str)\n",
    "    \n",
    "    return df"
   ]
  },
  {
   "cell_type": "code",
   "execution_count": 10,
   "id": "c86817e5-df74-4fbd-bdec-664f87a05197",
   "metadata": {},
   "outputs": [],
   "source": [
    "df_train = read_dataframe('./data/green_tripdata_2021-01.parquet')\n",
    "df_val = read_dataframe('./data/green_tripdata_2021-02.parquet')"
   ]
  },
  {
   "cell_type": "code",
   "execution_count": 11,
   "id": "ddd7cc88-a209-4cf8-bb65-4fe2e8b6ef9e",
   "metadata": {},
   "outputs": [
    {
     "data": {
      "text/plain": [
       "(73908, 61921)"
      ]
     },
     "execution_count": 11,
     "metadata": {},
     "output_type": "execute_result"
    }
   ],
   "source": [
    "len(df_train), len(df_val)"
   ]
  },
  {
   "cell_type": "code",
   "execution_count": 12,
   "id": "52319820-ac03-410c-b5d9-785fd7d2010d",
   "metadata": {},
   "outputs": [],
   "source": [
    "df_train['PU_DO'] = df_train['PULocationID'] + '_' + df_train['DOLocationID']\n",
    "df_val['PU_DO'] = df_val['PULocationID'] + '_' + df_val['DOLocationID']"
   ]
  },
  {
   "cell_type": "code",
   "execution_count": 13,
   "id": "0c3465ce-02eb-4578-9e79-85d94b84b34c",
   "metadata": {},
   "outputs": [],
   "source": [
    "categorical = ['PU_DO'] #'PULocationID', 'DOLocationID']\n",
    "numerical = ['trip_distance']\n",
    "\n",
    "dv = DictVectorizer()\n",
    "\n",
    "train_dicts = df_train[categorical + numerical].to_dict(orient='records')\n",
    "X_train = dv.fit_transform(train_dicts)\n",
    "\n",
    "val_dicts = df_val[categorical + numerical].to_dict(orient='records')\n",
    "X_val = dv.transform(val_dicts)"
   ]
  },
  {
   "cell_type": "code",
   "execution_count": 14,
   "id": "134cec36-334e-4a59-ae5d-cdc79a728059",
   "metadata": {},
   "outputs": [
    {
     "data": {
      "text/plain": [
       "(61921, 13221)"
      ]
     },
     "execution_count": 14,
     "metadata": {},
     "output_type": "execute_result"
    }
   ],
   "source": [
    "X_val.shape"
   ]
  },
  {
   "cell_type": "code",
   "execution_count": 15,
   "id": "e30e4e1f-16f3-474c-bfed-9abfb050ba07",
   "metadata": {},
   "outputs": [],
   "source": [
    "target = 'duration'\n",
    "y_train = df_train[target].values\n",
    "y_val = df_val[target].values"
   ]
  },
  {
   "cell_type": "code",
   "execution_count": 16,
   "id": "608d6456-b4de-4adf-979b-c7232eff2279",
   "metadata": {},
   "outputs": [
    {
     "data": {
      "text/plain": [
       "7.75871520559622"
      ]
     },
     "execution_count": 16,
     "metadata": {},
     "output_type": "execute_result"
    }
   ],
   "source": [
    "lr = LinearRegression()\n",
    "lr.fit(X_train, y_train)\n",
    "\n",
    "y_pred = lr.predict(X_val)\n",
    "\n",
    "mean_squared_error(y_val, y_pred, squared=False)"
   ]
  },
  {
   "cell_type": "code",
   "execution_count": 17,
   "id": "d6742157-fd43-459b-8e4c-fd929152b9cd",
   "metadata": {},
   "outputs": [],
   "source": [
    "with open('./models/lin_reg.bin', 'wb') as f_out:\n",
    "    pickle.dump((dv, lr), f_out)"
   ]
  },
  {
   "cell_type": "code",
   "execution_count": 18,
   "id": "ad6fc760-6c5e-4f4d-bf98-8a01d3e7821f",
   "metadata": {},
   "outputs": [
    {
     "data": {
      "text/plain": [
       "11.167275941179728"
      ]
     },
     "execution_count": 18,
     "metadata": {},
     "output_type": "execute_result"
    }
   ],
   "source": [
    "lr = Lasso(0.01)\n",
    "lr.fit(X_train, y_train)\n",
    "\n",
    "y_pred = lr.predict(X_val)\n",
    "\n",
    "mean_squared_error(y_val, y_pred, squared=False)"
   ]
  },
  {
   "cell_type": "markdown",
   "id": "b783a6b2-66f5-4478-9f9b-aa1b1d4d50cf",
   "metadata": {},
   "source": [
    "## Home work"
   ]
  },
  {
   "cell_type": "markdown",
   "id": "2116d8c1-ce3a-4679-8f87-8f1edfd35b89",
   "metadata": {},
   "source": [
    "The below function is just created but not used anywhere "
   ]
  },
  {
   "cell_type": "code",
   "execution_count": 19,
   "id": "222dc93e-581b-4a7c-84b9-1c90353ffbf0",
   "metadata": {},
   "outputs": [],
   "source": [
    "def read_hw_dataframe(filename):\n",
    "    if filename.endswith('.csv'):\n",
    "        df = pd.read_csv(filename)\n",
    "\n",
    "        df.dropOff_datetime = pd.to_datetime(df.dropOff_datetime)\n",
    "        df.pickup_datetime = pd.to_datetime(df.pickup_datetime)\n",
    "    elif filename.endswith('.parquet'):\n",
    "        df = pd.read_parquet(filename)\n",
    "\n",
    "    df['duration'] = df.dropOff_datetime - df.pickup_datetime\n",
    "    df.duration = df.duration.apply(lambda td: td.total_seconds() / 60)\n",
    "\n",
    "    df = df[(df.duration >= 1) & (df.duration <= 60)]\n",
    "\n",
    "    categorical = ['PUlocationID', 'DOlocationID']\n",
    "    df[categorical] = df[categorical].astype(str)\n",
    "    \n",
    "    return df"
   ]
  },
  {
   "cell_type": "code",
   "execution_count": 20,
   "id": "21aeb701-8396-4f57-acb6-29e89e34f3e9",
   "metadata": {},
   "outputs": [],
   "source": [
    "df_hw_train=pd.read_parquet('./data/fhv_tripdata_2021-01.parquet')\n",
    "df_hw_val=pd.read_parquet('./data/fhv_tripdata_2021-02.parquet')"
   ]
  },
  {
   "cell_type": "markdown",
   "id": "193fc051-5441-4fe7-bfc1-7b4bfeb06da8",
   "metadata": {},
   "source": [
    "Q1. Number of rows in January data"
   ]
  },
  {
   "cell_type": "code",
   "execution_count": 21,
   "id": "2be978eb-0c51-48fb-9b7f-a2176be053bb",
   "metadata": {},
   "outputs": [
    {
     "data": {
      "text/plain": [
       "(1154112, 7)"
      ]
     },
     "execution_count": 21,
     "metadata": {},
     "output_type": "execute_result"
    }
   ],
   "source": [
    "df_hw_train.shape"
   ]
  },
  {
   "cell_type": "code",
   "execution_count": 22,
   "id": "29918ab9-dc9c-499a-8cdc-ec5a6c34791b",
   "metadata": {},
   "outputs": [
    {
     "data": {
      "text/plain": [
       "Index(['dispatching_base_num', 'pickup_datetime', 'dropOff_datetime',\n",
       "       'PUlocationID', 'DOlocationID', 'SR_Flag', 'Affiliated_base_number'],\n",
       "      dtype='object')"
      ]
     },
     "execution_count": 22,
     "metadata": {},
     "output_type": "execute_result"
    }
   ],
   "source": [
    "df_hw_train.columns"
   ]
  },
  {
   "cell_type": "code",
   "execution_count": 23,
   "id": "244824aa-100b-4f31-b532-30cde641f905",
   "metadata": {},
   "outputs": [
    {
     "name": "stdout",
     "output_type": "stream",
     "text": [
      "Before cleaning the outliers 19.1672240937939\n",
      "After cleaning the outliers 16.247253368247375\n"
     ]
    }
   ],
   "source": [
    "import numpy as np\n",
    "df_hw_train['duration'] = df_hw_train.dropOff_datetime - df_hw_train.pickup_datetime\n",
    "df_hw_train.duration = df_hw_train.duration.apply(lambda td: td.total_seconds() / 60)\n",
    "print('Before cleaning the outliers',np.mean(df_hw_train.duration))\n",
    "\n",
    "df_hw_train = df_hw_train[(df_hw_train.duration >= 1) & (df_hw_train.duration <= 60)]\n",
    "\n",
    "print('After cleaning the outliers',np.mean(df_hw_train.duration))\n"
   ]
  },
  {
   "cell_type": "code",
   "execution_count": 24,
   "id": "fc6c253d-7567-4b33-8144-2fcd739547a9",
   "metadata": {},
   "outputs": [
    {
     "name": "stdout",
     "output_type": "stream",
     "text": [
      "1109826\n"
     ]
    }
   ],
   "source": [
    "print(len(df_hw_train))"
   ]
  },
  {
   "cell_type": "code",
   "execution_count": 25,
   "id": "88cae717-a0a1-4692-9ee2-c5f3643d9421",
   "metadata": {},
   "outputs": [
    {
     "name": "stdout",
     "output_type": "stream",
     "text": [
      "How many rows are dropped?  44286\n"
     ]
    }
   ],
   "source": [
    "print('How many rows are dropped? ', 1154112-1109826)"
   ]
  },
  {
   "cell_type": "code",
   "execution_count": 26,
   "id": "8cebbd86-59dc-4d5b-b6c2-d129b6e773d0",
   "metadata": {},
   "outputs": [],
   "source": [
    "df_hw_train['PUlocationID']=df_hw_train['PUlocationID'].fillna(-1)"
   ]
  },
  {
   "cell_type": "code",
   "execution_count": 27,
   "id": "9d0cf478-081b-4379-8fd4-4225539ac485",
   "metadata": {},
   "outputs": [],
   "source": [
    "df_hw_train['DOlocationID']=df_hw_train['DOlocationID'].fillna(-1)"
   ]
  },
  {
   "cell_type": "code",
   "execution_count": 28,
   "id": "d65cf066-877d-4793-922f-d071bc29c9b2",
   "metadata": {},
   "outputs": [
    {
     "data": {
      "text/plain": [
       "927008"
      ]
     },
     "execution_count": 28,
     "metadata": {},
     "output_type": "execute_result"
    }
   ],
   "source": [
    "count = (df_hw_train['PUlocationID'] == -1).sum()\n",
    "count"
   ]
  },
  {
   "cell_type": "code",
   "execution_count": 29,
   "id": "2e9aeb0a-cdf4-481e-b6b2-72d7951630b3",
   "metadata": {},
   "outputs": [
    {
     "name": "stdout",
     "output_type": "stream",
     "text": [
      "Ratio of filled -1 is  0.8352732770722617\n"
     ]
    }
   ],
   "source": [
    "print('Ratio of filled -1 is ', 927008/1109826)"
   ]
  },
  {
   "cell_type": "code",
   "execution_count": 30,
   "id": "fa331376-562b-4c76-ba1d-9c7a1085e49f",
   "metadata": {},
   "outputs": [],
   "source": [
    "categorical = ['PUlocationID', 'DOlocationID']\n",
    "df_hw_train[categorical] = df_hw_train[categorical].astype(str)\n"
   ]
  },
  {
   "cell_type": "code",
   "execution_count": 31,
   "id": "74a22a8d-d91e-440f-b02f-15f55b57779a",
   "metadata": {},
   "outputs": [
    {
     "name": "stdout",
     "output_type": "stream",
     "text": [
      "(1109826, 525) (1109826,)\n"
     ]
    },
    {
     "data": {
      "text/plain": [
       "10.528519425310185"
      ]
     },
     "execution_count": 31,
     "metadata": {},
     "output_type": "execute_result"
    }
   ],
   "source": [
    "train_dicts = df_hw_train[categorical].to_dict(orient='records')\n",
    "\n",
    "dv = DictVectorizer()\n",
    "X_train = dv.fit_transform(train_dicts)\n",
    "target = 'duration'\n",
    "y_train = df_hw_train[target].values\n",
    "\n",
    "print(X_train.shape,y_train.shape)\n",
    "\n",
    "lr = LinearRegression()\n",
    "lr.fit(X_train, y_train)\n",
    "\n",
    "y_pred = lr.predict(X_train)\n",
    "\n",
    "mean_squared_error(y_train, y_pred, squared=False)"
   ]
  },
  {
   "cell_type": "code",
   "execution_count": 32,
   "id": "7dc89453-e62a-48b7-bb11-1c7533dc67e1",
   "metadata": {},
   "outputs": [
    {
     "name": "stdout",
     "output_type": "stream",
     "text": [
      "990113\n"
     ]
    }
   ],
   "source": [
    "#df_hw_val=pd.read_parquet('./data/fhv_tripdata_2021-02.parquet')\n",
    "df_hw_val['duration'] = df_hw_val.dropOff_datetime - df_hw_val.pickup_datetime\n",
    "df_hw_val.duration = df_hw_val.duration.apply(lambda td: td.total_seconds() / 60)\n",
    "\n",
    "df_hw_val = df_hw_val[(df_hw_val.duration >= 1) & (df_hw_val.duration <= 60)]\n",
    "\n",
    "categorical = ['PUlocationID', 'DOlocationID']\n",
    "df_hw_val[categorical] = df_hw_val[categorical].astype(str)\n",
    "\n",
    "print(len(df_hw_val))"
   ]
  },
  {
   "cell_type": "code",
   "execution_count": 33,
   "id": "18e6a741-700f-49b5-a626-408b43cf5f4a",
   "metadata": {},
   "outputs": [],
   "source": [
    "df_hw_val['PUlocationID']=df_hw_val['PUlocationID'].fillna(-1)\n",
    "df_hw_val['DOlocationID']=df_hw_val['DOlocationID'].fillna(-1)"
   ]
  },
  {
   "cell_type": "code",
   "execution_count": 34,
   "id": "a5fb49d5-a2b2-4e93-bb2a-23a82b0d094f",
   "metadata": {},
   "outputs": [],
   "source": [
    "val_dicts = df_hw_val[categorical].to_dict(orient='records')\n",
    "X_val = dv.transform(val_dicts)"
   ]
  },
  {
   "cell_type": "code",
   "execution_count": 35,
   "id": "8fbdcfdc-b74a-4c6d-9e64-6f8ab9cbadc7",
   "metadata": {},
   "outputs": [],
   "source": [
    "target = 'duration'\n",
    "y_val = df_hw_val[target].values\n"
   ]
  },
  {
   "cell_type": "code",
   "execution_count": 36,
   "id": "f5584930-3ba0-4629-ba9c-56d0e112d266",
   "metadata": {},
   "outputs": [
    {
     "data": {
      "text/plain": [
       "11.364081705267695"
      ]
     },
     "execution_count": 36,
     "metadata": {},
     "output_type": "execute_result"
    }
   ],
   "source": [
    "lr = LinearRegression()\n",
    "lr.fit(X_train, y_train)\n",
    "\n",
    "y_pred = lr.predict(X_val)\n",
    "\n",
    "mean_squared_error(y_val, y_pred, squared=False)"
   ]
  },
  {
   "cell_type": "code",
   "execution_count": null,
   "id": "a2032b8c-494d-4b62-8f6b-74ba8d4fe612",
   "metadata": {},
   "outputs": [],
   "source": []
  }
 ],
 "metadata": {
  "kernelspec": {
   "display_name": "Python 3 (ipykernel)",
   "language": "python",
   "name": "python3"
  },
  "language_info": {
   "codemirror_mode": {
    "name": "ipython",
    "version": 3
   },
   "file_extension": ".py",
   "mimetype": "text/x-python",
   "name": "python",
   "nbconvert_exporter": "python",
   "pygments_lexer": "ipython3",
   "version": "3.9.12"
  }
 },
 "nbformat": 4,
 "nbformat_minor": 5
}
