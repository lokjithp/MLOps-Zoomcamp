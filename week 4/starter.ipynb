{
 "cells": [
  {
   "cell_type": "code",
   "execution_count": 1,
   "id": "05e83bb9",
   "metadata": {},
   "outputs": [],
   "source": [
    "import pickle\n",
    "import os\n",
    "import numpy as np\n",
    "import pandas as pd"
   ]
  },
  {
   "cell_type": "code",
   "execution_count": 2,
   "id": "e2be571d",
   "metadata": {},
   "outputs": [
    {
     "name": "stderr",
     "output_type": "stream",
     "text": [
      "c:\\users\\lokji\\appdata\\local\\programs\\python\\python39\\lib\\site-packages\\sklearn\\base.py:324: UserWarning: Trying to unpickle estimator DictVectorizer from version 1.0.2 when using version 1.0. This might lead to breaking code or invalid results. Use at your own risk. For more info please refer to:\n",
      "https://scikit-learn.org/stable/modules/model_persistence.html#security-maintainability-limitations\n",
      "  warnings.warn(\n",
      "c:\\users\\lokji\\appdata\\local\\programs\\python\\python39\\lib\\site-packages\\sklearn\\base.py:324: UserWarning: Trying to unpickle estimator LinearRegression from version 1.0.2 when using version 1.0. This might lead to breaking code or invalid results. Use at your own risk. For more info please refer to:\n",
      "https://scikit-learn.org/stable/modules/model_persistence.html#security-maintainability-limitations\n",
      "  warnings.warn(\n"
     ]
    }
   ],
   "source": [
    "with open('model.bin', 'rb') as f_in:\n",
    "    dv, lr = pickle.load(f_in)"
   ]
  },
  {
   "cell_type": "code",
   "execution_count": 3,
   "id": "949adece",
   "metadata": {},
   "outputs": [],
   "source": [
    "categorical = ['PUlocationID', 'DOlocationID']\n",
    "\n",
    "def read_data(filename):\n",
    "    df = pd.read_parquet(filename)\n",
    "    \n",
    "    df['duration'] = df.dropOff_datetime - df.pickup_datetime\n",
    "    df['duration'] = df.duration.dt.total_seconds() / 60\n",
    "\n",
    "    df = df[(df.duration >= 1) & (df.duration <= 60)].copy()\n",
    "\n",
    "    df[categorical] = df[categorical].fillna(-1).astype('int').astype('str')\n",
    "    \n",
    "    return df"
   ]
  },
  {
   "cell_type": "code",
   "execution_count": 7,
   "id": "3c2e5bf7",
   "metadata": {},
   "outputs": [],
   "source": [
    "def generate_results(year,month,o):\n",
    "    output_file=o\n",
    "    df['ride_id'] = f'{year:04d}/{month:02d}_' + df.index.astype('str')\n",
    "    df_result=pd.DataFrame(y_pred)\n",
    "\n",
    "    df_result['ride_id']=df['ride_id']\n",
    "\n",
    "    df_result.columns=['prediction','ride_id']\n",
    "\n",
    "    (df_result.iloc[0,1])='2021/02_0'\n",
    "    df_result.to_parquet(\n",
    "        output_file,\n",
    "        engine='pyarrow',\n",
    "        compression=None,\n",
    "        index=False\n",
    "        )\n",
    "    "
   ]
  },
  {
   "cell_type": "code",
   "execution_count": 8,
   "id": "27e5c4fa",
   "metadata": {},
   "outputs": [],
   "source": [
    "def build_input_output(year,month):\n",
    "    year=year\n",
    "    month=month\n",
    "    taxi_type='green'\n",
    "\n",
    "    input_file= f'https://nyc-tlc.s3.amazonaws.com/trip+data/fhv_tripdata_{year:04d}-{month:02d}.parquet'\n",
    "    output_file=f'output/{year:04d}-{month:02d}.parquet'\n",
    "    return input_file,output_file"
   ]
  },
  {
   "cell_type": "code",
   "execution_count": 11,
   "id": "e45beece",
   "metadata": {},
   "outputs": [
    {
     "name": "stdout",
     "output_type": "stream",
     "text": [
      "mean of prediction is  16.298821614015107\n"
     ]
    }
   ],
   "source": [
    "year=2021\n",
    "month=2\n",
    "i,o=build_input_output(year,month)\n",
    "df=read_data(i)\n",
    "\n",
    "dicts = df[categorical].to_dict(orient='records')\n",
    "X_val = dv.transform(dicts)\n",
    "y_pred = lr.predict(X_val)\n",
    "print('mean of prediction is ',np.mean(y_pred))\n",
    "generate_results(year,month,o)"
   ]
  },
  {
   "cell_type": "code",
   "execution_count": null,
   "id": "fc5a2de2",
   "metadata": {},
   "outputs": [],
   "source": []
  },
  {
   "cell_type": "code",
   "execution_count": null,
   "id": "fab0e6a5",
   "metadata": {},
   "outputs": [],
   "source": []
  }
 ],
 "metadata": {
  "kernelspec": {
   "display_name": "Python 3",
   "language": "python",
   "name": "python3"
  },
  "language_info": {
   "codemirror_mode": {
    "name": "ipython",
    "version": 3
   },
   "file_extension": ".py",
   "mimetype": "text/x-python",
   "name": "python",
   "nbconvert_exporter": "python",
   "pygments_lexer": "ipython3",
   "version": "3.9.5"
  }
 },
 "nbformat": 4,
 "nbformat_minor": 5
}
